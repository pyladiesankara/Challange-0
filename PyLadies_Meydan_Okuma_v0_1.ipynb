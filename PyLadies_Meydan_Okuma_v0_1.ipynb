{
  "nbformat": 4,
  "nbformat_minor": 0,
  "metadata": {
    "colab": {
      "name": "PyLadies Meydan Okuma v0.1.ipynb",
      "provenance": []
    },
    "kernelspec": {
      "name": "python3",
      "display_name": "Python 3"
    }
  },
  "cells": [
    {
      "cell_type": "markdown",
      "metadata": {
        "id": "qTfQacAxkswB"
      },
      "source": [
        "Merhaba PyLadies Ankara!\r\n",
        "\r\n",
        "Meydan okuma görevinize hoşgeldiniz!\r\n",
        "\r\n",
        "Toplam süre 8 saat olacaktır ve dış kaynakalardan alınan kodlar kabul edilmemektedir.\r\n",
        "\r\n",
        "[Amiral Battı](https://tr.wikipedia.org/wiki/Amiral_battı_(oyun)) ve [Mayın Tarlası](https://tr.wikipedia.org/wiki/Mayın_Tarlası) benzeri küçük bir masa oyunu yapacağız.\r\n",
        "\r\n",
        "Öncelikle oyun haritamızı tanıyalım.\r\n",
        "\r\n",
        "![map.jpeg](https://i.hizliresim.com/0jciDX.png)\r\n",
        "\r\n",
        "\r\n",
        "0-99 arası rastgele seçilecek hedef noktamızı tahminler yaparak bulmaya çalışacağız.\r\n",
        "\r\n",
        "Yapılan tahmin eğer doğru ise \"ISABET!\" \r\n",
        "\r\n",
        "Yapılan tahmin eğer 3 blok çevresinde ise \"SICAK!\" \r\n",
        "\r\n",
        "Yapılan tahmin eğer daha uzak ise \"SOGUK!\" \r\n",
        "\r\n",
        "(BONUS) Çıktısı verecek ve muhtemel çevresini işaretleyerek (renk ve ya bold italik  kullanabilirsiniz) geri bildirim yapacak. \r\n",
        "\r\n",
        "Katılan arkadaşlara başarılar diliyorum\r\n",
        "\r\n",
        "Unutmayın amaç eğlenmek ve öğrenmek kimse yapamadınız diye sizi eleştirmeyecek :)\r\n",
        "\r\n",
        "Batuhan Ilıkan \r\n",
        "\r\n"
      ]
    },
    {
      "cell_type": "code",
      "metadata": {
        "id": "WDzO5S6ltC1M"
      },
      "source": [
        "# burayı değiştirmeyin.\r\n",
        "import random\r\n",
        "secret=random.randint(0, 100)\r\n",
        "# burayı değiştirmeyin."
      ],
      "execution_count": 12,
      "outputs": []
    },
    {
      "cell_type": "markdown",
      "metadata": {
        "id": "Ktz5XwGctlnb"
      },
      "source": [
        "Random sayıyı bu bloğu çalıştırarak değiştirebilirsiniz."
      ]
    },
    {
      "cell_type": "markdown",
      "metadata": {
        "id": "cLeRk_57r_QO"
      },
      "source": [
        "# Task 1\r\n",
        "\r\n",
        "**Oyun Haritasını Oluşturma**\r\n",
        "\r\n",
        "10x10 bir matris oluşturarak yazdırmanız bekleniyor."
      ]
    },
    {
      "cell_type": "code",
      "metadata": {
        "id": "wLMUj7AfsVd9"
      },
      "source": [
        ""
      ],
      "execution_count": null,
      "outputs": []
    },
    {
      "cell_type": "markdown",
      "metadata": {
        "id": "1jpLPo9PsWFk"
      },
      "source": [
        "# Task 2\r\n",
        "\r\n",
        "**Tahmin Alma**\r\n",
        "\r\n",
        "Klavyeden girdi alıp *n* sayısı olarak tutun.\r\n",
        "\r\n",
        "\"Tahmin : \" olarak aldığınız sayı eğer 0-99 arasında değilse\r\n",
        "\r\n",
        " \"Lütfen 0-99 arasında bir sayı giriniz!\" yazdırın."
      ]
    },
    {
      "cell_type": "code",
      "metadata": {
        "id": "syUpgtx3shxo"
      },
      "source": [
        ""
      ],
      "execution_count": null,
      "outputs": []
    },
    {
      "cell_type": "markdown",
      "metadata": {
        "id": "x_4LxgcQsh2w"
      },
      "source": [
        "# Task 3\r\n",
        "\r\n",
        "**Tahmin Değerinin Yakınlığını Hesaplama**\r\n",
        "\r\n",
        "2 boyutlu bir düzlemde çalıştığımız için 3 blok çevresi yalnızca -+3 olarak alınmıyor. \r\n",
        "\r\n",
        "Örneğin 45 sayısının 3 blok çevresindeki sayılar 15, 24-26, 33-37, 42-48, 53-57, 64-66, 75 \r\n",
        "\r\n",
        "![map.jpeg](https://i.hizliresim.com/bj5feU.png)\r\n",
        "\r\n",
        "Bu bağlamda yöntem geliştirmeniz bekleniyor. Eğer bu adımda sıkıntı yaşarsanız discord üzerinden yardım isteyebilirsiniz. Önceliğiniz kendiniz çözmek olmalı ama :)\r\n",
        "\r\n",
        "Bu örnekte 45 sayısı kullanıcıdan aldığımız *n* değeri olsun.\r\n",
        "\r\n",
        "Kodumuzun bizim için oluşturduğu *secret* değeri 66 ise;\r\n",
        "\r\n",
        "**66**->65->55->45\r\n",
        "\r\n",
        "Gördüğünüz gibi 3 adımda erişebiliyoruz.Yani almamız gerken çıktı \"SICAK!\" olacak\r\n",
        "\r\n",
        "Burda Sonuç olarak bize bir *cevap* gelmesini istiyoruz.\r\n",
        "\r\n",
        "1.   Yapılan tahmin eğer doğru ise \"ISABET!\"\r\n",
        "2.   Yapılan tahmin eğer 3 blok çevresinde ise \"SICAK!\"\r\n",
        "3.   Yapılan tahmin eğer daha uzak ise \"SOGUK!\"\r\n",
        "\r\n"
      ]
    },
    {
      "cell_type": "code",
      "metadata": {
        "id": "z_iuXOj0wte7"
      },
      "source": [
        "# burayı değiştirmeyin.\r\n",
        "cevap = \"\"\r\n",
        "# burayı değiştirmeyin."
      ],
      "execution_count": 15,
      "outputs": []
    },
    {
      "cell_type": "code",
      "metadata": {
        "id": "2Fq97ZRGxDw6"
      },
      "source": [
        ""
      ],
      "execution_count": null,
      "outputs": []
    },
    {
      "cell_type": "markdown",
      "metadata": {
        "id": "2017_Q27xGfs"
      },
      "source": [
        "# Task 4(BONUS)\r\n",
        "\r\n",
        "//  **Yapmak Zorunlu Değildir!**  //\r\n",
        "\r\n",
        "**Görsel Eklemeler**\r\n",
        "\r\n",
        "Task 3'de eklediğim harita resmine benzer bir çıktı almanızı bekliyorum.\r\n",
        "\r\n",
        "Varsayalım ki 45 değerini seçtik ve bize sıcak olduğunu döndü.\r\n",
        "\r\n",
        "45 değerinin doğru olmadığını bildiğimiz için artık o değeri haritadan kaldırabiliriz. \r\n",
        "\r\n",
        "Etrafındaki 3 birimlik alanda olabildiğini anladığımız için renklendirerek farkındalık kazandırabiliriz.\r\n",
        "\r\n",
        "Eğer soğuk olsaydı bu sefer 45 ve etrafındaki 3 birimlik alan doğru olmayacağı için onları silebiliriz.\r\n",
        "\r\n",
        "Bu sayede oyunumuz daha anlaşılabilir ve güzel olacaktır.\r\n"
      ]
    },
    {
      "cell_type": "code",
      "metadata": {
        "id": "YPdHfkOxy-tG"
      },
      "source": [
        ""
      ],
      "execution_count": null,
      "outputs": []
    },
    {
      "cell_type": "markdown",
      "metadata": {
        "id": "VadbrYr1zCnf"
      },
      "source": [
        "# Final Task\r\n",
        "\r\n",
        "**Hadi Çalıştıralım**\r\n",
        "\r\n",
        "Daha önce yazdığımız kodları kullanarak sayıyı bulana kadar dönecek ve her seferinde yeni tahmin isteyecek kodu yazmanız bekleniyor.\r\n",
        "\r\n"
      ]
    },
    {
      "cell_type": "code",
      "metadata": {
        "id": "r0Ru28po0HHj"
      },
      "source": [
        ""
      ],
      "execution_count": null,
      "outputs": []
    }
  ]
}